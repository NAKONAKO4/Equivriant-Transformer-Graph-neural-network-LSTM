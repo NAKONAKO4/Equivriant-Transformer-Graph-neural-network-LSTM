{
 "cells": [
  {
   "cell_type": "code",
   "execution_count": null,
   "id": "initial_id",
   "metadata": {
    "collapsed": true
   },
   "outputs": [],
   "source": [
    ""
   ]
  },
  {
   "metadata": {
    "ExecuteTime": {
     "end_time": "2024-07-07T08:38:28.510934Z",
     "start_time": "2024-07-07T08:38:28.507649Z"
    }
   },
   "cell_type": "code",
   "source": [
    "import math\n",
    "from typing import Dict, Optional\n",
    "\n",
    "import torch\n",
    "\n",
    "from e3nn import o3\n",
    "from e3nn.math import soft_one_hot_linspace\n",
    "from e3nn.nn import ExtractIr, FullyConnectedNet, Gate\n",
    "from e3nn.o3 import FullyConnectedTensorProduct, TensorProduct\n",
    "from e3nn.util.jit import compile_mode\n",
    "from e3nn.math import soft_unit_step\n",
    "import torch\n",
    "from e3nn import nn\n",
    "from torch_scatter import scatter\n",
    "from torch.nn import TransformerEncoder, TransformerEncoderLayer\n",
    "from torch_cluster import radius_graph\n"
   ],
   "id": "d1e139bb3a706cc5",
   "outputs": [],
   "execution_count": 50
  },
  {
   "metadata": {
    "ExecuteTime": {
     "end_time": "2024-07-07T08:40:47.791650Z",
     "start_time": "2024-07-07T08:40:47.789115Z"
    }
   },
   "cell_type": "code",
   "source": [
    "irreps_input = o3.Irreps(\"15x0e\")\n",
    "irreps_query = o3.Irreps(\"15x0e\")\n",
    "irreps_key = o3.Irreps(\"15x0e\")\n",
    "irreps_output = o3.Irreps(\"128x0e\")"
   ],
   "id": "eca944279fb4ae35",
   "outputs": [],
   "execution_count": 57
  },
  {
   "metadata": {
    "ExecuteTime": {
     "end_time": "2024-07-07T08:40:48.538305Z",
     "start_time": "2024-07-07T08:40:48.536136Z"
    }
   },
   "cell_type": "code",
   "source": "",
   "id": "e7bad32ac4b1b95b",
   "outputs": [],
   "execution_count": 57
  },
  {
   "metadata": {
    "ExecuteTime": {
     "end_time": "2024-07-07T08:40:48.916138Z",
     "start_time": "2024-07-07T08:40:48.911456Z"
    }
   },
   "cell_type": "code",
   "source": [
    "num_nodes = 20\n",
    "\n",
    "pos = torch.randn(num_nodes, 3)\n",
    "f = irreps_input.randn(num_nodes, -1)\n",
    "\n",
    "# create graph\n",
    "max_radius = 1.3\n",
    "edge_src, edge_dst = radius_graph(pos, max_radius)\n",
    "edge_vec = pos[edge_src] - pos[edge_dst]\n",
    "edge_length = edge_vec.norm(dim=1)"
   ],
   "id": "62f701140ac2d5f1",
   "outputs": [],
   "execution_count": 58
  },
  {
   "metadata": {
    "ExecuteTime": {
     "end_time": "2024-07-07T08:40:49.304861Z",
     "start_time": "2024-07-07T08:40:49.303566Z"
    }
   },
   "cell_type": "code",
   "source": "",
   "id": "cebceb6eb04eb0c5",
   "outputs": [],
   "execution_count": 58
  },
  {
   "metadata": {
    "ExecuteTime": {
     "end_time": "2024-07-07T08:40:49.674384Z",
     "start_time": "2024-07-07T08:40:49.672190Z"
    }
   },
   "cell_type": "code",
   "source": "pos.shape",
   "id": "fa230322850b3606",
   "outputs": [
    {
     "data": {
      "text/plain": [
       "torch.Size([20, 3])"
      ]
     },
     "execution_count": 59,
     "metadata": {},
     "output_type": "execute_result"
    }
   ],
   "execution_count": 59
  },
  {
   "metadata": {
    "ExecuteTime": {
     "end_time": "2024-07-07T08:40:50.091191Z",
     "start_time": "2024-07-07T08:40:50.074749Z"
    }
   },
   "cell_type": "code",
   "source": "h_q = o3.Linear(irreps_input, irreps_query)",
   "id": "ace96b9da6e37b67",
   "outputs": [
    {
     "name": "stderr",
     "output_type": "stream",
     "text": [
      "/opt/anaconda3/envs/pytorch/lib/python3.11/site-packages/torch/jit/_check.py:177: UserWarning: The TorchScript type system doesn't support instance-level annotations on empty non-base types in `__init__`. Instead, either 1) use a type annotation in the class body, or 2) wrap the type in `torch.jit.Attribute`.\n",
      "  warnings.warn(\n"
     ]
    }
   ],
   "execution_count": 60
  },
  {
   "metadata": {
    "ExecuteTime": {
     "end_time": "2024-07-07T08:40:50.462343Z",
     "start_time": "2024-07-07T08:40:50.459532Z"
    }
   },
   "cell_type": "code",
   "source": [
    "number_of_basis = 10\n",
    "edge_length_embedded = soft_one_hot_linspace(\n",
    "    edge_length,\n",
    "    start=0.0,\n",
    "    end=max_radius,\n",
    "    number=number_of_basis,\n",
    "    basis='smooth_finite',\n",
    "    cutoff=True  # goes (smoothly) to zero at `start` and `end`\n",
    ")\n",
    "edge_length_embedded = edge_length_embedded.mul(number_of_basis**0.5)"
   ],
   "id": "236320d550438d98",
   "outputs": [],
   "execution_count": 61
  },
  {
   "metadata": {
    "ExecuteTime": {
     "end_time": "2024-07-07T08:40:50.861467Z",
     "start_time": "2024-07-07T08:40:50.858688Z"
    }
   },
   "cell_type": "code",
   "source": "edge_weight_cutoff = soft_unit_step(10 * (1 - edge_length / max_radius))",
   "id": "aab0ef8abbe943d8",
   "outputs": [],
   "execution_count": 62
  },
  {
   "metadata": {
    "ExecuteTime": {
     "end_time": "2024-07-07T08:40:51.295061Z",
     "start_time": "2024-07-07T08:40:51.220211Z"
    }
   },
   "cell_type": "code",
   "source": [
    "irreps_sh = o3.Irreps.spherical_harmonics(3)\n",
    "edge_sh = o3.spherical_harmonics(irreps_sh, edge_vec, True, normalization='component')"
   ],
   "id": "75eb647ddb2fa58b",
   "outputs": [],
   "execution_count": 63
  },
  {
   "metadata": {
    "ExecuteTime": {
     "end_time": "2024-07-07T08:40:51.744642Z",
     "start_time": "2024-07-07T08:40:51.625539Z"
    }
   },
   "cell_type": "code",
   "source": [
    "tp_k = o3.FullyConnectedTensorProduct(irreps_input, irreps_sh, irreps_key, shared_weights=False)\n",
    "fc_k = nn.FullyConnectedNet([number_of_basis, 16, tp_k.weight_numel], act=torch.nn.functional.silu)\n",
    "\n",
    "tp_v = o3.FullyConnectedTensorProduct(irreps_input, irreps_sh, irreps_output, shared_weights=False)\n",
    "fc_v = nn.FullyConnectedNet([number_of_basis, 16, tp_v.weight_numel], act=torch.nn.functional.silu)\n",
    "\n",
    "dot = o3.FullyConnectedTensorProduct(irreps_query, irreps_key, \"0e\")"
   ],
   "id": "f19bcb76aa16d491",
   "outputs": [
    {
     "name": "stderr",
     "output_type": "stream",
     "text": [
      "/opt/anaconda3/envs/pytorch/lib/python3.11/site-packages/torch/jit/_check.py:177: UserWarning: The TorchScript type system doesn't support instance-level annotations on empty non-base types in `__init__`. Instead, either 1) use a type annotation in the class body, or 2) wrap the type in `torch.jit.Attribute`.\n",
      "  warnings.warn(\n",
      "/opt/anaconda3/envs/pytorch/lib/python3.11/site-packages/torch/jit/_check.py:177: UserWarning: The TorchScript type system doesn't support instance-level annotations on empty non-base types in `__init__`. Instead, either 1) use a type annotation in the class body, or 2) wrap the type in `torch.jit.Attribute`.\n",
      "  warnings.warn(\n",
      "/opt/anaconda3/envs/pytorch/lib/python3.11/site-packages/torch/jit/_check.py:177: UserWarning: The TorchScript type system doesn't support instance-level annotations on empty non-base types in `__init__`. Instead, either 1) use a type annotation in the class body, or 2) wrap the type in `torch.jit.Attribute`.\n",
      "  warnings.warn(\n"
     ]
    }
   ],
   "execution_count": 64
  },
  {
   "metadata": {
    "ExecuteTime": {
     "end_time": "2024-07-07T08:40:52.033454Z",
     "start_time": "2024-07-07T08:40:52.016346Z"
    }
   },
   "cell_type": "code",
   "source": [
    "# compute the queries (per node), keys (per edge) and values (per edge)\n",
    "q = h_q(f)\n",
    "k = tp_k(f[edge_src], edge_sh, fc_k(edge_length_embedded))\n",
    "v = tp_v(f[edge_src], edge_sh, fc_v(edge_length_embedded))\n",
    "\n",
    "# compute the softmax (per edge)\n",
    "exp = edge_weight_cutoff[:, None] * dot(q[edge_dst], k).exp()  # compute the numerator\n",
    "z = scatter(exp, edge_dst, dim=0, dim_size=len(f))  # compute the denominator (per nodes)\n",
    "z[z == 0] = 1  # to avoid 0/0 when all the neighbors are exactly at the cutoff\n",
    "alpha = exp / z[edge_dst]\n",
    "\n",
    "# compute the outputs (per node)\n",
    "f_out = scatter(alpha.relu().sqrt() * v, edge_dst, dim=0, dim_size=len(f))"
   ],
   "id": "28b416a3c4a7d577",
   "outputs": [],
   "execution_count": 65
  },
  {
   "metadata": {
    "ExecuteTime": {
     "end_time": "2024-07-07T08:40:52.924628Z",
     "start_time": "2024-07-07T08:40:52.920846Z"
    }
   },
   "cell_type": "code",
   "source": "f_out.shape",
   "id": "56cdb9d8890c4f4b",
   "outputs": [
    {
     "data": {
      "text/plain": [
       "torch.Size([20, 128])"
      ]
     },
     "execution_count": 66,
     "metadata": {},
     "output_type": "execute_result"
    }
   ],
   "execution_count": 66
  },
  {
   "metadata": {
    "ExecuteTime": {
     "end_time": "2024-07-07T08:40:55.184057Z",
     "start_time": "2024-07-07T08:40:55.178034Z"
    }
   },
   "cell_type": "code",
   "source": "f",
   "id": "58526f523777dbfb",
   "outputs": [
    {
     "data": {
      "text/plain": [
       "tensor([[ 1.0108, -0.4120, -1.2691,  0.5434, -0.3108, -0.0259,  1.2164, -0.0178,\n",
       "          0.7902, -1.5214, -0.4848,  0.4506, -0.0061, -1.0693, -1.6660],\n",
       "        [ 1.9457, -0.9373, -0.6052, -0.0843,  0.5191,  1.3375, -0.7168, -1.1653,\n",
       "          0.7648, -1.1443,  0.5113, -0.7004,  0.9156, -0.0039, -1.2587],\n",
       "        [ 0.7415,  0.8114, -0.4896,  0.7137, -0.5670,  0.6979, -0.3470,  0.9645,\n",
       "         -2.4666,  0.9865,  1.0848,  0.4396, -0.1511,  0.4272,  0.8656],\n",
       "        [ 1.0039, -0.8731,  0.1023,  0.8909,  2.0612, -0.3998,  0.5176,  0.5354,\n",
       "         -1.7104,  1.0056, -0.6347,  0.0039,  1.2202,  0.3048,  1.2008],\n",
       "        [ 1.7200, -1.4296,  0.7554,  1.1488,  0.2106,  2.5101,  0.1621,  0.0049,\n",
       "          1.0198,  0.5128,  0.0367,  1.4464,  0.5385,  0.6567,  1.2070],\n",
       "        [-0.9541,  1.0299,  0.6233,  1.7747, -0.5644,  0.3849, -1.1908,  0.7297,\n",
       "          0.3244,  0.7336,  1.0145, -0.7193, -0.7312, -1.5739,  0.2230],\n",
       "        [-1.8391,  0.6928,  0.0222,  1.5460,  1.8051, -1.2119, -0.9513,  0.5299,\n",
       "         -0.5614,  0.8840, -0.8466,  0.0936, -1.2049, -0.3861,  0.2661],\n",
       "        [ 0.0631, -0.6165, -0.1723, -0.2491,  0.9162,  0.4365,  0.5766,  0.7135,\n",
       "          0.9610, -0.4489, -0.6937, -1.3292, -0.9794,  0.7730, -1.8034],\n",
       "        [ 1.8354, -0.3106, -0.6123, -2.3380, -1.3548,  0.5824,  0.3101, -2.4332,\n",
       "         -0.0560, -1.5374,  0.1564, -0.2453,  0.7102, -0.2665, -0.4005],\n",
       "        [-0.0104,  0.5493,  1.7886,  0.0153,  1.0983, -0.1073,  0.7184, -0.5327,\n",
       "         -0.6944,  0.0640,  0.1687, -1.3920, -1.0584,  1.7644,  0.5045],\n",
       "        [ 1.8633,  0.7181, -0.7412,  1.5133, -0.5403,  1.0914, -0.1134, -0.4500,\n",
       "         -1.7393,  0.9001,  1.3316, -2.5185, -0.4027,  0.6805,  1.2994],\n",
       "        [-0.8838, -0.5675,  1.7047,  0.3140,  0.5229, -1.1153, -0.4894,  0.1699,\n",
       "         -0.3043,  0.9702, -1.0810, -0.1470, -1.9902, -2.0825,  0.2402],\n",
       "        [-0.1850,  1.2307, -1.5129, -1.5275,  1.2640,  1.3307,  0.1551, -0.1827,\n",
       "         -1.4054, -0.8970,  0.1591,  0.1141, -2.3685, -1.1094, -0.8277],\n",
       "        [-0.1125, -0.1762,  0.5209, -0.5747,  1.3284,  0.0993,  0.8159,  0.3949,\n",
       "         -0.4428, -0.7638, -2.0634,  0.7616, -0.4017, -0.0916, -0.0034],\n",
       "        [-1.5808,  0.6889, -2.2401,  0.0308,  0.8693, -0.3131, -0.2639, -0.4333,\n",
       "         -0.7365,  0.7620, -1.4043, -0.0506,  1.5921, -0.3722,  0.2847],\n",
       "        [ 0.3134,  2.0038, -0.0255,  2.5824, -0.6112, -0.5542,  1.0906,  0.9436,\n",
       "          2.0036,  0.7448,  1.8523,  0.1802, -0.6373, -0.8607,  1.5805],\n",
       "        [-0.3305, -1.1030, -0.7453, -0.7670,  0.3125, -0.9522, -0.7459,  0.0545,\n",
       "         -0.2659,  1.5589,  0.6772,  0.9819,  0.5376, -0.6850,  1.2346],\n",
       "        [-1.6935, -0.0155, -1.4040, -0.1672,  0.1064, -1.0672, -1.3595,  0.9889,\n",
       "         -0.0691,  0.5012,  2.4671,  0.0679,  0.4460, -0.0078,  1.1893],\n",
       "        [-0.7947, -0.0601,  1.2246,  1.6389, -0.4704, -1.4212, -0.4428,  0.6191,\n",
       "          0.4649, -0.4669, -1.3386,  0.0032, -0.9339,  0.2219, -2.0070],\n",
       "        [-2.1413,  0.1033, -0.5089,  0.7265,  1.0504, -0.7212,  1.0146,  0.1292,\n",
       "         -1.2984,  0.6766, -0.5711,  1.9668, -0.8635, -0.1570, -0.1415]])"
      ]
     },
     "execution_count": 67,
     "metadata": {},
     "output_type": "execute_result"
    }
   ],
   "execution_count": 67
  },
  {
   "metadata": {
    "ExecuteTime": {
     "end_time": "2024-07-07T08:40:56.546219Z",
     "start_time": "2024-07-07T08:40:56.541592Z"
    }
   },
   "cell_type": "code",
   "source": "f_out",
   "id": "1d63106987741ab1",
   "outputs": [
    {
     "data": {
      "text/plain": [
       "tensor([[ 0.8893,  0.4559, -0.2268,  ..., -0.7073,  1.0102, -0.7480],\n",
       "        [ 1.0796,  0.9648, -0.0740,  ...,  0.0138, -0.4639,  0.8033],\n",
       "        [ 0.1390,  1.8978,  1.2474,  ...,  0.4028, -2.0364, -0.6878],\n",
       "        ...,\n",
       "        [-0.1836, -1.1423, -0.2519,  ...,  1.7280, -0.4552,  0.2658],\n",
       "        [ 0.0000,  0.0000,  0.0000,  ...,  0.0000,  0.0000,  0.0000],\n",
       "        [-0.2556, -0.8711, -0.5214,  ...,  0.1657,  0.2269,  0.2245]],\n",
       "       grad_fn=<ScatterAddBackward0>)"
      ]
     },
     "execution_count": 68,
     "metadata": {},
     "output_type": "execute_result"
    }
   ],
   "execution_count": 68
  },
  {
   "metadata": {},
   "cell_type": "code",
   "outputs": [],
   "execution_count": null,
   "source": "",
   "id": "ba936e5e6721b2b4"
  },
  {
   "metadata": {},
   "cell_type": "code",
   "outputs": [],
   "execution_count": null,
   "source": "",
   "id": "72b7375d59e01ed9"
  },
  {
   "metadata": {
    "ExecuteTime": {
     "end_time": "2024-07-07T08:15:17.047270Z",
     "start_time": "2024-07-07T08:15:17.044649Z"
    }
   },
   "cell_type": "code",
   "source": "from torch_geometric.data import Data",
   "id": "83ca8ee9928b4ae3",
   "outputs": [],
   "execution_count": 32
  },
  {
   "metadata": {
    "ExecuteTime": {
     "end_time": "2024-07-07T08:20:13.464673Z",
     "start_time": "2024-07-07T08:20:13.461906Z"
    }
   },
   "cell_type": "code",
   "source": "dataset=Data(pos=pos,x=f)",
   "id": "ebd00e4345f0ef58",
   "outputs": [],
   "execution_count": 33
  },
  {
   "metadata": {
    "ExecuteTime": {
     "end_time": "2024-07-07T08:27:19.404416Z",
     "start_time": "2024-07-07T08:27:19.400652Z"
    }
   },
   "cell_type": "code",
   "source": [
    "class ETG(nn.Module):\n",
    "    def __init__(self,\n",
    "                 irreps_in: o3.Irreps,\n",
    "                 irreps_query: o3.Irreps,\n",
    "                 irreps_key: o3.Irreps,\n",
    "                 irreps_output: o3.Irreps,\n",
    "                 ):\n",
    "        super(ETG, self).__init__()\n",
    "        self.irreps_in = irreps_in\n",
    "        self.irreps_query = irreps_query\n",
    "        self.irreps_key = irreps_key\n",
    "        self.irreps_output = irreps_output\n",
    "        \n",
    "    "
   ],
   "id": "a6139ffa5c219a66",
   "outputs": [],
   "execution_count": 35
  },
  {
   "metadata": {},
   "cell_type": "code",
   "outputs": [],
   "execution_count": null,
   "source": "",
   "id": "ca587128d9059fa3"
  },
  {
   "metadata": {
    "ExecuteTime": {
     "end_time": "2024-07-07T08:33:24.302967Z",
     "start_time": "2024-07-07T08:33:24.293002Z"
    }
   },
   "cell_type": "code",
   "source": [
    "def transformer(\n",
    "        irreps_input: o3.Irreps,\n",
    "        irreps_query: o3.Irreps,\n",
    "        irreps_key: o3.Irreps,\n",
    "        irreps_output: o3.Irreps,\n",
    "        dataset,\n",
    "        \n",
    "):\n",
    "    edge_src, edge_dst = radius_graph(dataset.pos, max_radius)\n",
    "    edge_vec = dataset.pos[edge_src] - dataset.pos[edge_dst]\n",
    "    edge_length = edge_vec.norm(dim=1)\n",
    "    number_of_basis = 10\n",
    "    edge_length_embedded = soft_one_hot_linspace(\n",
    "        edge_length,\n",
    "        start=0.0,\n",
    "        end=max_radius,\n",
    "        number=number_of_basis,\n",
    "        basis='smooth_finite',\n",
    "        cutoff=True\n",
    "    )\n",
    "    edge_length_embedded = edge_length_embedded.mul(number_of_basis**0.5)\n",
    "    edge_weight_cutoff = soft_unit_step(10 * (1 - edge_length / max_radius))\n",
    "    irreps_sh = o3.Irreps.spherical_harmonics(3)\n",
    "    dot = o3.FullyConnectedTensorProduct(irreps_query, irreps_key, \"0e\")\n",
    "    edge_sh = o3.spherical_harmonics(irreps_sh, edge_vec, True, normalization='component')\n",
    "\n",
    "    h_q = o3.Linear(irreps_input, irreps_query)\n",
    "    tp_k = o3.FullyConnectedTensorProduct(irreps_input, irreps_sh, irreps_key, shared_weights=False)\n",
    "    fc_k = nn.FullyConnectedNet([number_of_basis, 16, tp_k.weight_numel], act=torch.nn.functional.silu)\n",
    "\n",
    "    tp_v = o3.FullyConnectedTensorProduct(irreps_input, irreps_sh, irreps_output, shared_weights=False)\n",
    "    fc_v = nn.FullyConnectedNet([number_of_basis, 16, tp_v.weight_numel], act=torch.nn.functional.silu)\n",
    "    q = h_q(f)\n",
    "    k = tp_k(f[edge_src], edge_sh, fc_k(edge_length_embedded))\n",
    "    v = tp_v(f[edge_src], edge_sh, fc_v(edge_length_embedded))\n",
    "\n",
    "    exp = edge_weight_cutoff[:, None] * dot(q[edge_dst], k).exp()\n",
    "    z = scatter(exp, edge_dst, dim=0, dim_size=len(f))\n",
    "    z[z == 0] = 1\n",
    "    alpha = exp / z[edge_dst]\n",
    "\n",
    "    return scatter(alpha.relu().sqrt() * v, edge_dst, dim=0, dim_size=len(f))\n"
   ],
   "id": "4a9c4405f9f00936",
   "outputs": [],
   "execution_count": 36
  },
  {
   "metadata": {},
   "cell_type": "code",
   "outputs": [],
   "execution_count": null,
   "source": "",
   "id": "8ee0feccac51243f"
  }
 ],
 "metadata": {
  "kernelspec": {
   "display_name": "Python 3",
   "language": "python",
   "name": "python3"
  },
  "language_info": {
   "codemirror_mode": {
    "name": "ipython",
    "version": 2
   },
   "file_extension": ".py",
   "mimetype": "text/x-python",
   "name": "python",
   "nbconvert_exporter": "python",
   "pygments_lexer": "ipython2",
   "version": "2.7.6"
  }
 },
 "nbformat": 4,
 "nbformat_minor": 5
}
